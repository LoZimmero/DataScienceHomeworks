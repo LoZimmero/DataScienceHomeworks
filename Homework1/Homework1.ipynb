{
 "cells": [
  {
   "attachments": {},
   "cell_type": "markdown",
   "metadata": {},
   "source": [
    "# Python dependencies\n",
    "Required python dependencies:\n",
    "- rpy2\n",
    "- pandas"
   ]
  },
  {
   "cell_type": "code",
   "execution_count": 13,
   "metadata": {
    "vscode": {
     "languageId": "shellscript"
    }
   },
   "outputs": [
    {
     "name": "stdout",
     "output_type": "stream",
     "text": [
      "Found existing installation: rpy2 3.5.1\n",
      "Uninstalling rpy2-3.5.1:\n",
      "  Successfully uninstalled rpy2-3.5.1\n",
      "Collecting rpy2==3.5.1\n",
      "  Using cached rpy2-3.5.1-py3-none-any.whl\n",
      "Requirement already satisfied: cffi>=1.10.0 in d:\\universita\\corsi\\datascience\\datascience_2022-23\\esercitazioni\\homeworks\\.venv\\lib\\site-packages (from rpy2==3.5.1) (1.15.1)\n",
      "Requirement already satisfied: jinja2 in d:\\universita\\corsi\\datascience\\datascience_2022-23\\esercitazioni\\homeworks\\.venv\\lib\\site-packages (from rpy2==3.5.1) (3.1.2)\n",
      "Requirement already satisfied: pytz in d:\\universita\\corsi\\datascience\\datascience_2022-23\\esercitazioni\\homeworks\\.venv\\lib\\site-packages (from rpy2==3.5.1) (2023.3)\n",
      "Requirement already satisfied: tzlocal in d:\\universita\\corsi\\datascience\\datascience_2022-23\\esercitazioni\\homeworks\\.venv\\lib\\site-packages (from rpy2==3.5.1) (4.3)\n",
      "Requirement already satisfied: pycparser in d:\\universita\\corsi\\datascience\\datascience_2022-23\\esercitazioni\\homeworks\\.venv\\lib\\site-packages (from cffi>=1.10.0->rpy2==3.5.1) (2.21)\n",
      "Requirement already satisfied: MarkupSafe>=2.0 in d:\\universita\\corsi\\datascience\\datascience_2022-23\\esercitazioni\\homeworks\\.venv\\lib\\site-packages (from jinja2->rpy2==3.5.1) (2.1.3)\n",
      "Requirement already satisfied: pytz-deprecation-shim in d:\\universita\\corsi\\datascience\\datascience_2022-23\\esercitazioni\\homeworks\\.venv\\lib\\site-packages (from tzlocal->rpy2==3.5.1) (0.1.0.post0)\n",
      "Requirement already satisfied: tzdata in d:\\universita\\corsi\\datascience\\datascience_2022-23\\esercitazioni\\homeworks\\.venv\\lib\\site-packages (from tzlocal->rpy2==3.5.1) (2023.3)\n",
      "Installing collected packages: rpy2\n",
      "Successfully installed rpy2-3.5.1\n"
     ]
    },
    {
     "name": "stderr",
     "output_type": "stream",
     "text": [
      "WARNING: Ignoring invalid distribution -andas (d:\\universita\\corsi\\datascience\\datascience_2022-23\\esercitazioni\\homeworks\\.venv\\lib\\site-packages)\n",
      "WARNING: Ignoring invalid distribution -andas (d:\\universita\\corsi\\datascience\\datascience_2022-23\\esercitazioni\\homeworks\\.venv\\lib\\site-packages)\n"
     ]
    }
   ],
   "source": [
    "!pip3 uninstall rpy2 -y\n",
    "!pip3 install rpy2==3.5.1\n",
    "#!pip3 uninstall pandas\n",
    "#!pip3 install pandas==1.5.3"
   ]
  },
  {
   "cell_type": "code",
   "execution_count": 14,
   "metadata": {},
   "outputs": [
    {
     "name": "stdout",
     "output_type": "stream",
     "text": [
      "The rpy2.ipython extension is already loaded. To reload it, use:\n",
      "  %reload_ext rpy2.ipython\n"
     ]
    }
   ],
   "source": [
    "# enables the %%R magic, not necessary if you've already done this\n",
    "%load_ext rpy2.ipython"
   ]
  },
  {
   "cell_type": "code",
   "execution_count": 15,
   "metadata": {},
   "outputs": [
    {
     "data": {
      "text/html": [
       "<div>\n",
       "<style scoped>\n",
       "    .dataframe tbody tr th:only-of-type {\n",
       "        vertical-align: middle;\n",
       "    }\n",
       "\n",
       "    .dataframe tbody tr th {\n",
       "        vertical-align: top;\n",
       "    }\n",
       "\n",
       "    .dataframe thead th {\n",
       "        text-align: right;\n",
       "    }\n",
       "</style>\n",
       "<table border=\"1\" class=\"dataframe\">\n",
       "  <thead>\n",
       "    <tr style=\"text-align: right;\">\n",
       "      <th></th>\n",
       "      <th>cups_of_coffee</th>\n",
       "      <th>productivity</th>\n",
       "    </tr>\n",
       "  </thead>\n",
       "  <tbody>\n",
       "    <tr>\n",
       "      <th>0</th>\n",
       "      <td>0</td>\n",
       "      <td>2</td>\n",
       "    </tr>\n",
       "    <tr>\n",
       "      <th>1</th>\n",
       "      <td>1</td>\n",
       "      <td>5</td>\n",
       "    </tr>\n",
       "    <tr>\n",
       "      <th>2</th>\n",
       "      <td>2</td>\n",
       "      <td>6</td>\n",
       "    </tr>\n",
       "    <tr>\n",
       "      <th>3</th>\n",
       "      <td>3</td>\n",
       "      <td>8</td>\n",
       "    </tr>\n",
       "    <tr>\n",
       "      <th>4</th>\n",
       "      <td>4</td>\n",
       "      <td>9</td>\n",
       "    </tr>\n",
       "  </tbody>\n",
       "</table>\n",
       "</div>"
      ],
      "text/plain": [
       "   cups_of_coffee  productivity\n",
       "0               0             2\n",
       "1               1             5\n",
       "2               2             6\n",
       "3               3             8\n",
       "4               4             9"
      ]
     },
     "execution_count": 15,
     "metadata": {},
     "output_type": "execute_result"
    }
   ],
   "source": [
    "# Create df\n",
    "import pandas as pd\n",
    "import rpy2.robjects as robjects\n",
    "df = pd.DataFrame({\n",
    "    'cups_of_coffee': [0, 1, 2, 3, 4, 5, 6, 7, 8, 9],\n",
    "    'productivity': [2, 5, 6, 8, 9, 8, 0, 1, 0, -1]\n",
    "})\n",
    "#robjects.globalenv['df'] = df\n",
    "df.head()"
   ]
  },
  {
   "cell_type": "code",
   "execution_count": 16,
   "metadata": {},
   "outputs": [],
   "source": [
    "# GLOBAL VARIABLES\n",
    "FILE_TO_ANALYZE = 'bgloct_1'"
   ]
  },
  {
   "cell_type": "code",
   "execution_count": 17,
   "metadata": {
    "vscode": {
     "languageId": "shellscript"
    }
   },
   "outputs": [
    {
     "name": "stdout",
     "output_type": "stream",
     "text": [
      "\n",
      "INFO: assessing the tuple count wrt to CWIN ...\n",
      "INFO: DONE! results in ./counts/tcount-bgloct_1.txt\n",
      "\n"
     ]
    }
   ],
   "source": [
    "# Phase 1: Execute cwinAnalysis on file to analyze\n",
    "filename=\"bgloct_1\"\n",
    "!python ./ffdatools/cwinAnalysis.py ./ffdatools/$filename $filename"
   ]
  },
  {
   "cell_type": "code",
   "execution_count": 18,
   "metadata": {},
   "outputs": [
    {
     "name": "stderr",
     "output_type": "stream",
     "text": [
      "d:\\Universita\\Corsi\\DataScience\\DataScience_2022-23\\Esercitazioni\\Homeworks\\.venv\\lib\\site-packages\\rpy2\\robjects\\pandas2ri.py:54: FutureWarning: iteritems is deprecated and will be removed in a future version. Use .items instead.\n",
      "  for name, values in obj.iteritems():\n"
     ]
    },
    {
     "data": {
      "image/png": "[encoded data removed]"
     },
     "metadata": {},
     "output_type": "display_data"
    }
   ],
   "source": [
    "%%R -i df\n",
    "\n",
    "# NB: HERE CONSTANTS\n",
    "FILE_NAME <- \"bgloct_1\"\n",
    "\n",
    "CURRDIR <- getwd()\n",
    "FFDATOOLS <- paste(CURRDIR, '/ffdatools', sep='')\n",
    "FILE <- paste(CURRDIR,\"/counts/tcount-\",FILE_NAME,\".txt\",sep=\"\", collapse=NULL)\n",
    "dataset <- read.delim(FILE, header=FALSE)\n",
    "plot ( dataset$V1, dataset$V2, col=\"red\", xlim=c(0,500), ylim=c(0,600), type=\"ol\",\n",
    "       xlab=\"CWIN\", ylab=\"count\")\n",
    "\n"
   ]
  },
  {
   "attachments": {},
   "cell_type": "markdown",
   "metadata": {},
   "source": [
    "Da questo grafico vediamo che un buon CWIN potrebbe essere proprio CWIN=100.<br>\n",
    "Proviamo a lanciare lo script **logCoalescence** proprio con questo parametro"
   ]
  },
  {
   "cell_type": "code",
   "execution_count": 19,
   "metadata": {
    "vscode": {
     "languageId": "shellscript"
    }
   },
   "outputs": [
    {
     "name": "stdout",
     "output_type": "stream",
     "text": [
      "\n",
      "WARNING: output directory already exists\n",
      "Fix:\n",
      "        remove dir tuples-./ffdatools/bgloct_1-100\n",
      "\n"
     ]
    }
   ],
   "source": [
    "# logCoalescence\n",
    "!python ffdatools/logCoalescence.py ./ffdatools/$filename 100"
   ]
  },
  {
   "cell_type": "code",
   "execution_count": 20,
   "metadata": {},
   "outputs": [
    {
     "name": "stdout",
     "output_type": "stream",
     "text": [
      "        V1\n",
      "1    19389\n",
      "2    77315\n",
      "3     2068\n",
      "4    11776\n",
      "5    67258\n",
      "6    10150\n",
      "7    82345\n",
      "8     5689\n",
      "9    17135\n",
      "10   44715\n",
      "11    1081\n",
      "12   24123\n",
      "13    5458\n",
      "14    4418\n",
      "15    6157\n",
      "16   47001\n",
      "17    6522\n",
      "18   16857\n",
      "19   19914\n",
      "20   61004\n",
      "21   16776\n",
      "22   28641\n",
      "23   46370\n",
      "24    6322\n",
      "25     828\n",
      "26   42425\n",
      "27   10703\n",
      "28   12793\n",
      "29     406\n",
      "30   26632\n",
      "31   30175\n",
      "32   17837\n",
      "33     969\n",
      "34    7928\n",
      "35     115\n",
      "36     116\n",
      "37     115\n",
      "38    1778\n",
      "39   16349\n",
      "40  126877\n",
      "41     397\n",
      "42   52760\n",
      "43   14834\n",
      "44     647\n",
      "45   23354\n",
      "46   14747\n",
      "47    3144\n",
      "48    7069\n",
      "49    7654\n",
      "50     438\n",
      "51   21538\n",
      "52    1454\n",
      "53   42846\n",
      "54     284\n",
      "55    1987\n",
      "56    3657\n",
      "57     469\n",
      "58    1152\n",
      "59    1109\n",
      "60    1415\n",
      "61     851\n",
      "62     561\n",
      "63   90571\n",
      "64   24162\n",
      "65    2388\n",
      "66   81575\n",
      "67    1079\n",
      "68    2610\n",
      "69    2302\n",
      "70   39850\n",
      "71     788\n",
      "72   73881\n",
      "73   15593\n",
      "74    5727\n",
      "75    2949\n",
      "76   87449\n",
      "77     155\n",
      "78    1070\n",
      "79    4242\n",
      "80    4162\n",
      "81    6492\n",
      "82     865\n",
      "83   25414\n",
      "84   44661\n",
      "85   75314\n",
      "86    7267\n",
      "87   16838\n",
      "88    2109\n",
      "89     320\n",
      "90     428\n",
      "91    2677\n",
      "92   53297\n",
      "93     505\n",
      "94    1036\n",
      "95    8721\n",
      "96   13610\n",
      "97   49060\n",
      "98    5913\n",
      "99   16120\n",
      "100   3316\n",
      "101   9778\n",
      "102   2980\n",
      "103   1711\n",
      "104  44047\n",
      "105   3297\n",
      "106  17073\n",
      "107  37949\n",
      "108   2663\n",
      "109  14566\n",
      "110  38602\n",
      "111   4165\n",
      "112  17621\n",
      "113 103489\n",
      "114  37654\n",
      "115  11133\n",
      "116  17796\n",
      "117  35418\n",
      "118  40944\n",
      "119   9296\n",
      "120   2451\n",
      "121   8949\n",
      "122  29359\n",
      "123    223\n",
      "124   7049\n",
      "125  34019\n",
      "126    171\n",
      "127  16106\n",
      "128  57694\n",
      "129   7518\n",
      "130   4129\n",
      "131   3721\n",
      "132  96823\n",
      "133   9895\n",
      "134   9632\n"
     ]
    }
   ],
   "source": [
    "%%R\n",
    "# Analyze interarrivals\n",
    "interarrivals <- read.table(paste(CURRDIR,\"/tuples-/ffdatools/\",FILE_NAME,\"-100/interarrivals.txt\",sep=\"\"), quote=\"\\\"\", comment.char=\"\")\n",
    "interarrivals"
   ]
  },
  {
   "cell_type": "code",
   "execution_count": 21,
   "metadata": {},
   "outputs": [
    {
     "name": "stdout",
     "output_type": "stream",
     "text": [
      "[1] 19696.52\n"
     ]
    }
   ],
   "source": [
    "%%R\n",
    "library(fmsb)\n",
    "\n",
    "# Compute mean\n",
    "mean <- mean(interarrivals$V1)\n",
    "mean\n"
   ]
  },
  {
   "cell_type": "code",
   "execution_count": 22,
   "metadata": {},
   "outputs": [
    {
     "name": "stdout",
     "output_type": "stream",
     "text": [
      "[1] 25623.61\n"
     ]
    }
   ],
   "source": [
    "%%R\n",
    "# Compute sd\n",
    "sd <- sd(interarrivals$V1)\n",
    "sd\n"
   ]
  },
  {
   "cell_type": "code",
   "execution_count": 23,
   "metadata": {},
   "outputs": [
    {
     "name": "stdout",
     "output_type": "stream",
     "text": [
      "[1] 8835\n"
     ]
    }
   ],
   "source": [
    "%%R\n",
    "# Compute Median\n",
    "median <- median(interarrivals$V1)\n",
    "median"
   ]
  },
  {
   "cell_type": "code",
   "execution_count": 24,
   "metadata": {},
   "outputs": [
    {
     "name": "stdout",
     "output_type": "stream",
     "text": [
      "[1] 12261.5\n"
     ]
    }
   ],
   "source": [
    "%%R\n",
    "# Compute SIQR\n",
    "siqr <- SIQR(interarrivals$V1)\n",
    "siqr"
   ]
  },
  {
   "attachments": {},
   "cell_type": "markdown",
   "metadata": {},
   "source": [
    "## R cell example"
   ]
  },
  {
   "cell_type": "code",
   "execution_count": 25,
   "metadata": {},
   "outputs": [
    {
     "name": "stdout",
     "output_type": "stream",
     "text": [
      "  cups_of_coffee productivity\n",
      "0              0            2\n",
      "1              1            5\n",
      "2              2            6\n",
      "3              3            8\n",
      "4              4            9\n",
      "5              5            8\n",
      "6              6            0\n",
      "7              7            1\n",
      "8              8            0\n",
      "9              9           -1\n"
     ]
    },
    {
     "name": "stderr",
     "output_type": "stream",
     "text": [
      "d:\\Universita\\Corsi\\DataScience\\DataScience_2022-23\\Esercitazioni\\Homeworks\\.venv\\lib\\site-packages\\rpy2\\robjects\\pandas2ri.py:54: FutureWarning: iteritems is deprecated and will be removed in a future version. Use .items instead.\n",
      "  for name, values in obj.iteritems():\n"
     ]
    }
   ],
   "source": [
    "%%R -i df -w 5 -h 5\n",
    "# import df from global environment (-i df)\n",
    "# make default figure size 5 by 5 inches with 200 dpi resolution\n",
    "df"
   ]
  }
 ],
 "metadata": {
  "kernelspec": {
   "display_name": ".venv",
   "language": "python",
   "name": "python3"
  },
  "language_info": {
   "codemirror_mode": {
    "name": "ipython",
    "version": 3
   },
   "file_extension": ".py",
   "mimetype": "text/x-python",
   "name": "python",
   "nbconvert_exporter": "python",
   "pygments_lexer": "ipython3",
   "version": "3.9.1"
  },
  "orig_nbformat": 4
 },
 "nbformat": 4,
 "nbformat_minor": 2
}
